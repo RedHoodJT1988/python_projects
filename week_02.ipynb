{
 "cells": [
  {
   "cell_type": "markdown",
   "metadata": {},
   "source": [
    "# Comments and Basic Data Types"
   ]
  },
  {
   "cell_type": "code",
   "execution_count": 1,
   "metadata": {},
   "outputs": [],
   "source": [
    "# this is a comment"
   ]
  },
  {
   "cell_type": "code",
   "execution_count": 3,
   "metadata": {},
   "outputs": [
    {
     "name": "stdout",
     "output_type": "stream",
     "text": [
      "Hello\n"
     ]
    }
   ],
   "source": [
    "\"\"\"\n",
    "This is a multi-line comment\n",
    "\"\"\"\n",
    "print(\"Hello\") # this is also a comment"
   ]
  },
  {
   "cell_type": "code",
   "execution_count": 4,
   "metadata": {},
   "outputs": [
    {
     "name": "stdout",
     "output_type": "stream",
     "text": [
      "31\n",
      "30\n",
      "3\n",
      "2\n"
     ]
    }
   ],
   "source": [
    "# the following are integers\n",
    "print(31)\n",
    "print(30)\n",
    "print(3)\n",
    "print(2)"
   ]
  },
  {
   "cell_type": "code",
   "execution_count": 5,
   "metadata": {},
   "outputs": [
    {
     "name": "stdout",
     "output_type": "stream",
     "text": [
      "31.75\n",
      "19.876\n",
      "8.0\n"
     ]
    }
   ],
   "source": [
    "# the following are all floats\n",
    "print(31.75)\n",
    "print(19.876)\n",
    "print(8.0) # even this is a float"
   ]
  },
  {
   "cell_type": "code",
   "execution_count": 6,
   "metadata": {},
   "outputs": [
    {
     "name": "stdout",
     "output_type": "stream",
     "text": [
      "True\n",
      "False\n"
     ]
    }
   ],
   "source": [
    "# the following are booleans\n",
    "print(True)\n",
    "print(False)"
   ]
  },
  {
   "cell_type": "code",
   "execution_count": 7,
   "metadata": {},
   "outputs": [
    {
     "name": "stdout",
     "output_type": "stream",
     "text": [
      "\n",
      "There's a snake in my boot!\n",
      "True\n"
     ]
    }
   ],
   "source": [
    "# the following are strings\n",
    "print(\"\")\n",
    "print(\"There's a snake in my boot!\")\n",
    "print('True')"
   ]
  },
  {
   "cell_type": "code",
   "execution_count": 11,
   "metadata": {},
   "outputs": [
    {
     "name": "stdout",
     "output_type": "stream",
     "text": [
      "Jonathan Reeves\n"
     ]
    },
    {
     "data": {
      "text/plain": [
       "type"
      ]
     },
     "execution_count": 11,
     "metadata": {},
     "output_type": "execute_result"
    }
   ],
   "source": [
    "# Week 2 Monday Challenges\n",
    "# OUTPUT: Print out your name\n",
    "print(\"Jonathan Reeves\")\n",
    "\n",
    "# TYPE CHECKING:\n",
    "type(int)"
   ]
  },
  {
   "cell_type": "code",
   "execution_count": 13,
   "metadata": {},
   "outputs": [
    {
     "name": "stdout",
     "output_type": "stream",
     "text": [
      "5 8.4\n"
     ]
    }
   ],
   "source": [
    "num1 = 5            # storing an integer into a variable\n",
    "num2 = 8.4          # storing a float into a variable\n",
    "print(num1, num2)   # you can print multiple items using commas"
   ]
  },
  {
   "cell_type": "code",
   "execution_count": 14,
   "metadata": {},
   "outputs": [
    {
     "name": "stdout",
     "output_type": "stream",
     "text": [
      "True\n"
     ]
    }
   ],
   "source": [
    "# stroing a boolean into a variable\n",
    "switch = True\n",
    "print(switch)"
   ]
  },
  {
   "cell_type": "code",
   "execution_count": 16,
   "metadata": {},
   "outputs": [
    {
     "name": "stdout",
     "output_type": "stream",
     "text": [
      "Kyle Rayner 3\n"
     ]
    }
   ],
   "source": [
    "# storing strings into a variable\n",
    "name = 'Kyle Rayner'\n",
    "fav_number = '3'\n",
    "print(name, fav_number) # will print 3 next to the name"
   ]
  },
  {
   "cell_type": "code",
   "execution_count": 20,
   "metadata": {},
   "outputs": [
    {
     "name": "stdout",
     "output_type": "stream",
     "text": [
      "13.4\n"
     ]
    }
   ],
   "source": [
    "# using two variables to create another variable\n",
    "result = num1 + num2\n",
    "print(result)  # this will print the sum of the two variables"
   ]
  },
  {
   "cell_type": "code",
   "execution_count": 21,
   "metadata": {},
   "outputs": [
    {
     "name": "stdout",
     "output_type": "stream",
     "text": [
      "14.4\n"
     ]
    }
   ],
   "source": [
    "# adding, deleting, multiplying, dividing from a variable\n",
    "result += 1  # same as saying result = result + 1\n",
    "print(result)\n",
    "result *= num1 # same as saying result = result * num1"
   ]
  },
  {
   "cell_type": "code",
   "execution_count": 22,
   "metadata": {},
   "outputs": [
    {
     "name": "stdout",
     "output_type": "stream",
     "text": [
      "Kyle\n",
      "Hal\n"
     ]
    }
   ],
   "source": [
    "# defining a variable and overwriting it's value\n",
    "name = 'Kyle'\n",
    "print(name)\n",
    "name = 'Hal'\n",
    "print(name)"
   ]
  },
  {
   "cell_type": "code",
   "execution_count": 23,
   "metadata": {},
   "outputs": [
    {
     "name": "stdout",
     "output_type": "stream",
     "text": [
      "3 + 10 = 30\n"
     ]
    }
   ],
   "source": [
    "# Week 2 Tuesday Exercises\n",
    "# VARIABLE OUTPUT\n",
    "x = 3\n",
    "y = 10\n",
    "result = x * y\n",
    "print(f\"{x} * {y} = {result}\")\n",
    "\n",
    "# AREA CALCULATION\n",
    "width = 245.54\n",
    "height = 13.66\n",
    "area = width * height"
   ]
  },
  {
   "cell_type": "code",
   "execution_count": null,
   "metadata": {},
   "outputs": [],
   "source": []
  }
 ],
 "metadata": {
  "kernelspec": {
   "display_name": "Python 3",
   "language": "python",
   "name": "python3"
  },
  "language_info": {
   "codemirror_mode": {
    "name": "ipython",
    "version": 3
   },
   "file_extension": ".py",
   "mimetype": "text/x-python",
   "name": "python",
   "nbconvert_exporter": "python",
   "pygments_lexer": "ipython3",
   "version": "3.7.6"
  }
 },
 "nbformat": 4,
 "nbformat_minor": 4
}
