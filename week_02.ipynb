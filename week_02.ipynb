{
 "cells": [
  {
   "cell_type": "markdown",
   "metadata": {},
   "source": [
    "# Comments and Basic Data Types"
   ]
  },
  {
   "cell_type": "code",
   "execution_count": 1,
   "metadata": {},
   "outputs": [],
   "source": [
    "# this is a comment"
   ]
  },
  {
   "cell_type": "code",
   "execution_count": 3,
   "metadata": {},
   "outputs": [
    {
     "name": "stdout",
     "output_type": "stream",
     "text": [
      "Hello\n"
     ]
    }
   ],
   "source": [
    "\"\"\"\n",
    "This is a multi-line comment\n",
    "\"\"\"\n",
    "print(\"Hello\") # this is also a comment"
   ]
  },
  {
   "cell_type": "code",
   "execution_count": 4,
   "metadata": {},
   "outputs": [
    {
     "name": "stdout",
     "output_type": "stream",
     "text": [
      "31\n",
      "30\n",
      "3\n",
      "2\n"
     ]
    }
   ],
   "source": [
    "# the following are integers\n",
    "print(31)\n",
    "print(30)\n",
    "print(3)\n",
    "print(2)"
   ]
  },
  {
   "cell_type": "code",
   "execution_count": 5,
   "metadata": {},
   "outputs": [
    {
     "name": "stdout",
     "output_type": "stream",
     "text": [
      "31.75\n",
      "19.876\n",
      "8.0\n"
     ]
    }
   ],
   "source": [
    "# the following are all floats\n",
    "print(31.75)\n",
    "print(19.876)\n",
    "print(8.0) # even this is a float"
   ]
  },
  {
   "cell_type": "code",
   "execution_count": 6,
   "metadata": {},
   "outputs": [
    {
     "name": "stdout",
     "output_type": "stream",
     "text": [
      "True\n",
      "False\n"
     ]
    }
   ],
   "source": [
    "# the following are booleans\n",
    "print(True)\n",
    "print(False)"
   ]
  },
  {
   "cell_type": "code",
   "execution_count": 7,
   "metadata": {},
   "outputs": [
    {
     "name": "stdout",
     "output_type": "stream",
     "text": [
      "\n",
      "There's a snake in my boot!\n",
      "True\n"
     ]
    }
   ],
   "source": [
    "# the following are strings\n",
    "print(\"\")\n",
    "print(\"There's a snake in my boot!\")\n",
    "print('True')"
   ]
  },
  {
   "cell_type": "code",
   "execution_count": 11,
   "metadata": {},
   "outputs": [
    {
     "name": "stdout",
     "output_type": "stream",
     "text": [
      "Jonathan Reeves\n"
     ]
    },
    {
     "data": {
      "text/plain": [
       "type"
      ]
     },
     "execution_count": 11,
     "metadata": {},
     "output_type": "execute_result"
    }
   ],
   "source": [
    "# Week 2 Monday Challenges\n",
    "# OUTPUT: Print out your name\n",
    "print(\"Jonathan Reeves\")\n",
    "\n",
    "# TYPE CHECKING:\n",
    "type(int)"
   ]
  },
  {
   "cell_type": "code",
   "execution_count": 13,
   "metadata": {},
   "outputs": [
    {
     "name": "stdout",
     "output_type": "stream",
     "text": [
      "5 8.4\n"
     ]
    }
   ],
   "source": [
    "num1 = 5            # storing an integer into a variable\n",
    "num2 = 8.4          # storing a float into a variable\n",
    "print(num1, num2)   # you can print multiple items using commas"
   ]
  },
  {
   "cell_type": "code",
   "execution_count": 14,
   "metadata": {},
   "outputs": [
    {
     "name": "stdout",
     "output_type": "stream",
     "text": [
      "True\n"
     ]
    }
   ],
   "source": [
    "# stroing a boolean into a variable\n",
    "switch = True\n",
    "print(switch)"
   ]
  },
  {
   "cell_type": "code",
   "execution_count": 16,
   "metadata": {},
   "outputs": [
    {
     "name": "stdout",
     "output_type": "stream",
     "text": [
      "Kyle Rayner 3\n"
     ]
    }
   ],
   "source": [
    "# storing strings into a variable\n",
    "name = 'Kyle Rayner'\n",
    "fav_number = '3'\n",
    "print(name, fav_number) # will print 3 next to the name"
   ]
  },
  {
   "cell_type": "code",
   "execution_count": 20,
   "metadata": {},
   "outputs": [
    {
     "name": "stdout",
     "output_type": "stream",
     "text": [
      "13.4\n"
     ]
    }
   ],
   "source": [
    "# using two variables to create another variable\n",
    "result = num1 + num2\n",
    "print(result)  # this will print the sum of the two variables"
   ]
  },
  {
   "cell_type": "code",
   "execution_count": 21,
   "metadata": {},
   "outputs": [
    {
     "name": "stdout",
     "output_type": "stream",
     "text": [
      "14.4\n"
     ]
    }
   ],
   "source": [
    "# adding, deleting, multiplying, dividing from a variable\n",
    "result += 1  # same as saying result = result + 1\n",
    "print(result)\n",
    "result *= num1 # same as saying result = result * num1"
   ]
  },
  {
   "cell_type": "code",
   "execution_count": 22,
   "metadata": {},
   "outputs": [
    {
     "name": "stdout",
     "output_type": "stream",
     "text": [
      "Kyle\n",
      "Hal\n"
     ]
    }
   ],
   "source": [
    "# defining a variable and overwriting it's value\n",
    "name = 'Kyle'\n",
    "print(name)\n",
    "name = 'Hal'\n",
    "print(name)"
   ]
  },
  {
   "cell_type": "code",
   "execution_count": 24,
   "metadata": {},
   "outputs": [
    {
     "name": "stdout",
     "output_type": "stream",
     "text": [
      "3 * 10 = 30\n",
      "3354.0764\n"
     ]
    }
   ],
   "source": [
    "# Week 2 Tuesday Exercises\n",
    "# VARIABLE OUTPUT\n",
    "x = 3\n",
    "y = 10\n",
    "result = x * y\n",
    "print(f\"{x} * {y} = {result}\")\n",
    "\n",
    "# AREA CALCULATION\n",
    "width = 245.54\n",
    "height = 13.66\n",
    "area = width * height\n",
    "print(area)"
   ]
  },
  {
   "cell_type": "markdown",
   "metadata": {},
   "source": [
    "# Working with Strings"
   ]
  },
  {
   "cell_type": "code",
   "execution_count": 25,
   "metadata": {},
   "outputs": [
    {
     "name": "stdout",
     "output_type": "stream",
     "text": [
      "Kyle Rayner\n"
     ]
    }
   ],
   "source": [
    "# using the addition operator without variables\n",
    "name = 'Kyle' + \" \" + \"Rayner\"\n",
    "print(name)"
   ]
  },
  {
   "cell_type": "code",
   "execution_count": 26,
   "metadata": {},
   "outputs": [
    {
     "name": "stdout",
     "output_type": "stream",
     "text": [
      "Kyle Rayner\n"
     ]
    }
   ],
   "source": [
    "# using the addition operator with variables\n",
    "first_name = \"Kyle\"\n",
    "last_name = \"Rayner\"\n",
    "full_name = first_name + \" \" + last_name\n",
    "print(full_name)"
   ]
  },
  {
   "cell_type": "code",
   "execution_count": 27,
   "metadata": {},
   "outputs": [
    {
     "name": "stdout",
     "output_type": "stream",
     "text": [
      "Hello Jason\n",
      "Hello Jason, you are 31 years old.\n"
     ]
    }
   ],
   "source": [
    "# injecting variables using the format method\n",
    "name = \"Jason\"\n",
    "print(\"Hello {}\".format(name))\n",
    "print(\"Hello {}, you are {} years old.\".format(name, 31))"
   ]
  },
  {
   "cell_type": "code",
   "execution_count": 28,
   "metadata": {},
   "outputs": [
    {
     "name": "stdout",
     "output_type": "stream",
     "text": [
      "Hello Jason\n"
     ]
    }
   ],
   "source": [
    "# using the new f strings (Python 3.6+)\n",
    "name = \"Jason\"\n",
    "print(f\"Hello {name}\")"
   ]
  },
  {
   "cell_type": "code",
   "execution_count": 29,
   "metadata": {},
   "outputs": [
    {
     "name": "stdout",
     "output_type": "stream",
     "text": [
      "Hello, Bruce\n"
     ]
    }
   ],
   "source": [
    "# one major difference between version 2 & 3\n",
    "name = \"Bruce\"\n",
    "print(\"Hello, %s\" % name)"
   ]
  },
  {
   "cell_type": "code",
   "execution_count": 30,
   "metadata": {},
   "outputs": [
    {
     "name": "stdout",
     "output_type": "stream",
     "text": [
      "Hello, Bruce Wayne\n"
     ]
    }
   ],
   "source": [
    "# python 2 multiple variable formatting\n",
    "first_name = \"Bruce\"\n",
    "last_name = \"Wayne\"\n",
    "print(\"Hello, %s %s\" %(first_name, last_name))   # surrond the variables in parenthesis"
   ]
  },
  {
   "cell_type": "code",
   "execution_count": 32,
   "metadata": {},
   "outputs": [
    {
     "name": "stdout",
     "output_type": "stream",
     "text": [
      "K\n",
      "y\n",
      "l\n",
      "e\n",
      "l\n"
     ]
    }
   ],
   "source": [
    "# using indexes to print each element\n",
    "word = \"Kyle\"\n",
    "print(word[0])    # will output 'K'\n",
    "print(word[1])    # will output 'y'\n",
    "print(word[2])    # will output 'l'\n",
    "print(word[-1])   # will output 'e', using negative numbers will give you the last character in the string\n",
    "# to use negative numbers start with -1 and count down\n",
    "print(word[-2])   # will output 'l'"
   ]
  },
  {
   "cell_type": "code",
   "execution_count": 35,
   "metadata": {},
   "outputs": [
    {
     "name": "stdout",
     "output_type": "stream",
     "text": [
      "Ky\n"
     ]
    }
   ],
   "source": [
    "word = 'Kyle'\n",
    "print(word[0:2]) # will output 'Ky'"
   ]
  },
  {
   "cell_type": "code",
   "execution_count": 38,
   "metadata": {},
   "outputs": [
    {
     "name": "stdout",
     "output_type": "stream",
     "text": [
      "Kl\n"
     ]
    }
   ],
   "source": [
    "# the syntax for this is variable_name[start : stop : step]\n",
    "print(word[0 : 3 : 2])"
   ]
  },
  {
   "cell_type": "code",
   "execution_count": 42,
   "metadata": {},
   "outputs": [
    {
     "name": "stdout",
     "output_type": "stream",
     "text": [
      "31 33.4 True Jon\n",
      "Jonathna's favorite sport is hockey.'\n",
      "Jonathna is working on programming in python\n"
     ]
    }
   ],
   "source": [
    "# Week 2 Wednesday Exercises\n",
    "# VARIABLE INJECTION\n",
    "num = 31\n",
    "float = 33.4\n",
    "bool = True\n",
    "name = \"Jon\"\n",
    "print(f\"{num} {float} {bool} {name}\")\n",
    "\n",
    "# FILL IN THE BLANKS using the Format method\n",
    "name = \"Jonathna\"\n",
    "activity = \"programming in python\"\n",
    "sport = \"hockey\"\n",
    "print(\"{}'s favorite sport is {}.'\".format(name, sport))\n",
    "print(\"{} is working on {}\".format(name, activity))"
   ]
  },
  {
   "cell_type": "markdown",
   "metadata": {},
   "source": [
    "# Manipulating Strings"
   ]
  },
  {
   "cell_type": "code",
   "execution_count": 43,
   "metadata": {},
   "outputs": [
    {
     "name": "stdout",
     "output_type": "stream",
     "text": [
      "Tim Drake\n"
     ]
    }
   ],
   "source": [
    "# using the title method to capitalize a string\n",
    "name = \"tim drake\"\n",
    "print(name.title())"
   ]
  },
  {
   "cell_type": "code",
   "execution_count": 44,
   "metadata": {},
   "outputs": [
    {
     "name": "stdout",
     "output_type": "stream",
     "text": [
      "TIM DRAKE\n",
      "tim drake\n"
     ]
    }
   ],
   "source": [
    "# using the upper and lower methods\n",
    "print(name.upper())\n",
    "print(name.lower())"
   ]
  },
  {
   "cell_type": "code",
   "execution_count": 46,
   "metadata": {},
   "outputs": [
    {
     "name": "stdout",
     "output_type": "stream",
     "text": [
      "Hello there.\n"
     ]
    }
   ],
   "source": [
    "# replacing an exclamation point with a period\n",
    "words = \"Hello there!\"\n",
    "print(words.replace('!', '.'))"
   ]
  },
  {
   "cell_type": "code",
   "execution_count": 48,
   "metadata": {},
   "outputs": [
    {
     "name": "stdout",
     "output_type": "stream",
     "text": [
      "5\n"
     ]
    }
   ],
   "source": [
    "# finding the starting index of our searched term\n",
    "s = \"Look over that way\"\n",
    "print(s.find(\"over\"))"
   ]
  },
  {
   "cell_type": "code",
   "execution_count": 49,
   "metadata": {},
   "outputs": [
    {
     "name": "stdout",
     "output_type": "stream",
     "text": [
      "Jason Todd\n"
     ]
    }
   ],
   "source": [
    "# removing white space with strip\n",
    "name = \" Jason Todd   \"\n",
    "print(name.strip())"
   ]
  },
  {
   "cell_type": "code",
   "execution_count": 50,
   "metadata": {},
   "outputs": [
    {
     "name": "stdout",
     "output_type": "stream",
     "text": [
      "Selina   \n",
      "  Selina\n"
     ]
    }
   ],
   "source": [
    "# try out lstrip and rstrip\n",
    "name = \"  Selina   \"\n",
    "print(name.lstrip())\n",
    "print(name.rstrip())"
   ]
  },
  {
   "cell_type": "code",
   "execution_count": 51,
   "metadata": {},
   "outputs": [
    {
     "name": "stdout",
     "output_type": "stream",
     "text": [
      "['These', 'words', 'are', 'separated', 'by', 'spaces']\n"
     ]
    }
   ],
   "source": [
    "# converting a string into a list of words\n",
    "s = \"These words are separated by spaces\"\n",
    "print(s.split(' '))"
   ]
  },
  {
   "cell_type": "code",
   "execution_count": 52,
   "metadata": {},
   "outputs": [
    {
     "name": "stdout",
     "output_type": "stream",
     "text": [
      "HELLO I WILL BE IN ALL CAPS\n",
      "Damian\n"
     ]
    }
   ],
   "source": [
    "# Thursday Exercises\n",
    "# UPPERCASING\n",
    "capital = 'hello i will be in all caps'\n",
    "print(capital.upper())\n",
    "\n",
    "# STRIP SYMBOLS\n",
    "new_string = \"$$Damian\"\n",
    "print(new_string.strip(\"$\"))"
   ]
  },
  {
   "cell_type": "markdown",
   "metadata": {},
   "source": [
    "# Friday Project: Printing Receipts"
   ]
  },
  {
   "cell_type": "code",
   "execution_count": 66,
   "metadata": {},
   "outputs": [
    {
     "name": "stdout",
     "output_type": "stream",
     "text": [
      "**************************************************\n",
      "\t\tPythonic Temple Of Coding, Inc.\n",
      "\t\t356 Python Way\n",
      "\t\tWeatherford, TX\n",
      "==================================================\n",
      "\tProduct Name\tProduct Price\n",
      "\tComics\t\t32.25\n",
      "\tLaptop\t\t1999.99\n",
      "\tDock\t\t199.99\n",
      "==================================================\n",
      "\t\t\tTotal\n",
      "\t\t\t$2232.23\n",
      "==================================================\n",
      "\n",
      "\tThanks for swinging by today!\n",
      "**************************************************\n"
     ]
    }
   ],
   "source": [
    "# create a product and price for three items\n",
    "product1_name, product1_price = \"Comics\", 32.25\n",
    "product2_name, product2_price = \"Laptop\", 1999.99\n",
    "product3_name, product3_price = \"Dock\", 199.99\n",
    "\n",
    "# create a company name and information\n",
    "company_name = \"pythonic temple of coding, inc.\"\n",
    "company_address = \"356 Python Way\"\n",
    "company_city = \"Weatherford, TX\"\n",
    "\n",
    "# declare ending message\n",
    "message = \"Thanks for swinging by today!\"\n",
    "\n",
    "# create a top border\n",
    "print(\"*\" * 50)\n",
    "\n",
    "\n",
    "# print company information first, using format\n",
    "print(f\"\\t\\t{company_name.title()}\")\n",
    "print(f\"\\t\\t{company_address}\")\n",
    "print(f\"\\t\\t{company_city}\")\n",
    "\n",
    "# print a line between sections\n",
    "print(\"=\" * 50)\n",
    "\n",
    "# print out header for section of items\n",
    "print(\"\\tProduct Name\\tProduct Price\")\n",
    "\n",
    "# create a print statement for each product\n",
    "print(f\"\\t{product1_name.title()}\\t\\t{product1_price}\")\n",
    "print(f\"\\t{product2_name.title()}\\t\\t{product2_price}\")\n",
    "print(f\"\\t{product3_name.title()}\\t\\t{product3_price}\")\n",
    "\n",
    "# print a line between sections\n",
    "print(\"=\" * 50)\n",
    "\n",
    "# print out header for section of total\n",
    "print(\"\\t\\t\\tTotal\")\n",
    "\n",
    "# calculate total price and print out\n",
    "total = product1_price + product2_price + product3_price\n",
    "print(f\"\\t\\t\\t${total}\")\n",
    "\n",
    "# print a line between sections\n",
    "print(\"=\" * 50)\n",
    "\n",
    "# output thank you message\n",
    "print(f\"\\n\\t{message}\")\n",
    "\n",
    "# create a bottom border\n",
    "print(\"*\" * 50)"
   ]
  },
  {
   "cell_type": "code",
   "execution_count": 70,
   "metadata": {},
   "outputs": [
    {
     "name": "stdout",
     "output_type": "stream",
     "text": [
      "olleH\n"
     ]
    }
   ],
   "source": [
    "# reversing the string \"Hello\" using slicing\n",
    "s = \"Hello\"[::-1]\n",
    "print(s)"
   ]
  },
  {
   "cell_type": "code",
   "execution_count": null,
   "metadata": {},
   "outputs": [],
   "source": []
  },
  {
   "cell_type": "code",
   "execution_count": null,
   "metadata": {},
   "outputs": [],
   "source": []
  }
 ],
 "metadata": {
  "kernelspec": {
   "display_name": "Python 3",
   "language": "python",
   "name": "python3"
  },
  "language_info": {
   "codemirror_mode": {
    "name": "ipython",
    "version": 3
   },
   "file_extension": ".py",
   "mimetype": "text/x-python",
   "name": "python",
   "nbconvert_exporter": "python",
   "pygments_lexer": "ipython3",
   "version": "3.7.6"
  }
 },
 "nbformat": 4,
 "nbformat_minor": 4
}
